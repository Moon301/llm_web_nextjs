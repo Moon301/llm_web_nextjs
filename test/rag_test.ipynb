{
 "cells": [
  {
   "cell_type": "code",
   "execution_count": 2,
   "id": "26123253",
   "metadata": {},
   "outputs": [],
   "source": [
    "from os import curdir\n",
    "from fastapi import APIRouter, HTTPException, UploadFile, File, Form\n",
    "from typing import List\n",
    "import json\n",
    "from langchain_community.document_loaders import PyPDFLoader\n",
    "from langchain.embeddings import HuggingFaceEmbeddings\n",
    "from langchain_text_splitters import RecursiveCharacterTextSplitter\n",
    "from langchain_core.prompts import ChatPromptTemplate\n",
    "from langchain_openai import ChatOpenAI\n",
    "from langchain_ollama import ChatOllama\n",
    "from langchain_community.vectorstores import FAISS\n",
    "import tempfile\n",
    "\n",
    "\n",
    "DB_INDEX = f\"../backend/vectors/202508141516411874\"\n",
    "embeddings = HuggingFaceEmbeddings(model_name=\"jhgan/ko-sbert-sts\")\n",
    "vector_db = FAISS.load_local(DB_INDEX, embeddings, allow_dangerous_deserialization=True)\n",
    "\n",
    "retriever = vector_db.as_retriever(search_kwargs={\"k\": 5})\n",
    "\n"
   ]
  },
  {
   "cell_type": "code",
   "execution_count": null,
   "id": "320f4a25",
   "metadata": {},
   "outputs": [],
   "source": [
    "system_prompt = \"\"\"당신은 문서 기반 질의응답을 도와주는 AI 어시스턴트입니다. \n",
    "        제공된 문서 내용을 바탕으로 정확하고 유용한 답변을 제공하세요.\n",
    "        문서에 없는 내용에 대해서는 \"문서에서 해당 내용을 찾을 수 없습니다\"라고 답변하세요.\n",
    "        \n",
    "        ### Context\n",
    "        {docs}\n",
    "        \"\"\"\n",
    "        \n",
    "rag_prompt = ChatPromptTemplate.from_messages([\n",
    "    (\"system\", system_prompt),\n",
    "    (\"user\", \"{question}\")\n",
    "])\n",
    "        \n",
    "        "
   ]
  },
  {
   "cell_type": "code",
   "execution_count": null,
   "id": "408a1658",
   "metadata": {},
   "outputs": [],
   "source": [
    "\n",
    "\n",
    "message = \"한신대학교 총장이 누구야?\"\n",
    "find_docs = retriever.invoke(message)\n",
    "system_prompt = \"\"\"당신은 문서 기반 질의응답을 도와주는 AI 어시스턴트입니다. \n",
    "        제공된 문서 내용을 바탕으로 정확하고 유용한 답변을 제공하세요.\n",
    "        문서에 없는 내용에 대해서는 \"문서에서 해당 내용을 찾을 수 없습니다\"라고 답변하세요.\n",
    "        \n",
    "        ### Context\n",
    "        {docs}\n",
    "        \"\"\"\n",
    "        \n",
    "rag_prompt = ChatPromptTemplate.from_messages([\n",
    "    (\"system\", system_prompt),\n",
    "    (\"user\", \"{question}\")\n",
    "])\n",
    "\n",
    "\n",
    "llm = ChatOllama(model=\"gpt-oss:20b\", temperature=0)\n",
    "\n",
    "chain = rag_prompt | llm\n",
    "        \n",
    "response = chain.invoke({\"question\": message, \"docs\": find_docs})\n",
    "\n",
    "\n",
    "ai_response = response.content"
   ]
  },
  {
   "cell_type": "code",
   "execution_count": 8,
   "id": "6aa6bb83",
   "metadata": {},
   "outputs": [
    {
     "data": {
      "text/plain": [
       "[Document(id='0e4dd644-7876-486b-b9c4-f6339913893e', metadata={'producer': 'PDF 2022 12.0.0.4204', 'creator': 'PDF 2022 12.0.0.4204', 'creationdate': '2025-06-30T11:28:00+09:00', 'moddate': '2025-06-30T11:28:11+09:00', 'source': '/tmp/tmpq453ynbq.pdf', 'total_pages': 1000, 'page': 164, 'page_label': '165'}, page_content='2025한국디지털콘텐츠학회 하계종합학술대회 및 대학생논문경진대회 발표 논문집\\n95\\n후크 시스템을 활용한 입체적 전투 RPG개발장준혁(*),송유민(*),이은경(**),오석희(***)(*)한신대학교 컴퓨터공학부,{jhjang888,songdaldal}@hs.ac.kr(**)한신대학교 AIžSW대학,992cog22@hanmail.net(***)한신대학교 AIžSW대학,seokhee5@hs.ac.kr1.연구 배경코로나19 이후 디지털 콘텐츠 소비 증가와 함께 다양한 플랫폼을 통한 게임 확산이 가속화되었다[1]. 엘든링, 마비노기 모바일, 로스트아크 등의 성공은 RPG 장르가 플랫폼에 관계없이 높은 몰입도와 선호도를 이끌어내는 강점을 보여준다, 아래 그림 1과 같이 Steam 플랫폼 내 RPG 장르 점유율 또한 2020년 6.7%에서 2025년 7.8%로 증가하며 지속적인 성장세를 나타내고 있다.\\n그림 1.Steam플랫폼 RPG장르 점유율(%)(2020~2025)[2]본 연구는 이러한 배경하에 RPG 장르의 핵심 요소인 보스 레이드 전투와 입체적 전투 시스템을 결합한 액션 RPG 게임 개발을 목표로 한다.2.연구 내용2.1구현 환경본 연구는 Unity 2022.3 LTS와 C#을 활용하여 개발하였으며 후크 시스템과 FSM 구조는 Unity의 컴포넌트를 기반 구조를 활용해 모듈화하여 구현하였다.'),\n",
       " Document(id='980a8745-eafa-4768-84ec-9a9bd1ca1072', metadata={'producer': 'PDF 2022 12.0.0.4204', 'creator': 'PDF 2022 12.0.0.4204', 'creationdate': '2025-06-30T11:28:00+09:00', 'moddate': '2025-06-30T11:28:11+09:00', 'source': '/tmp/tmpq453ynbq.pdf', 'total_pages': 1000, 'page': 9, 'page_label': '10'}, page_content='● 조직위원회 구 분성 명소 속구 분성 명소 속위원장이양선한신대학교\\n위원\\n김기만㈜코더블\\n부위원장\\n곽노윤백석대학교김민정지엔미래교육 사회적협동조합김진술전남대학교김수균제주대학교김혜영홍익대학교김양훈신한대학교송은지남서울대학교김종성국민대학교여상수목원대학교김태은남서울대학교이상운남서울대학교서정욱한신대학교이현우한국전자통신연구원이현직질병관리청임미숙나사렛대학교장재훈부산경상대학교한정혜청주교육대학교최성원정보통신기획평가원● 준비위원회 구 분성 명소 속구 분성 명소 속위원장최재명목원대학교위원김남성대전폴리텍대학 대전캠퍼스\\n부위원장고윤미한양대학교 ERICA김연수목원대학교김윤호목원대학교김진술전남대학교노희성한국건설기술연구원류승택한신대학교이양선한신대학교박상오중앙대학교정영애 선문대학교 여상수목원대학교천민우 동신대학교 이영미제주특별자치도황세웅선문대학교\\n위원\\n이강수한남대학교\\n위원\\n임익수 한신대학교 임황빈강원도립대학교이상운남서울대학교장항배중앙대학교이서정한국해양대학교정영애선문대학교이성철선문대학교조남형충북보건과학대학교이용걸한신대학교최시중한국건설기술연구원이창훈서울과학기술대학교천민우동신대학교이택선문대학교최재명목원대학교임동성오산대학교한정혜청주교육대학교임미숙나사렛대학교홍윤희 충남대학교'),\n",
       " Document(id='d27ea1d1-56c4-4549-9b78-58fe8a7c0ab0', metadata={'producer': 'PDF 2022 12.0.0.4204', 'creator': 'PDF 2022 12.0.0.4204', 'creationdate': '2025-06-30T11:28:00+09:00', 'moddate': '2025-06-30T11:28:11+09:00', 'source': '/tmp/tmpq453ynbq.pdf', 'total_pages': 1000, 'page': 8, 'page_label': '9'}, page_content='2025년 하계종합학술대회 조직● 대회장 : 김영철 (한국디지털콘텐츠학회장, ICT폴리텍대학)● 전임회장 및 자문위원구 분성 명소 속구 분성 명소 속\\n전임회장\\n방기천남서울대학교\\n자문위원이태화한국멀티미디어협회김형중한국핀테크학회장고응남백석대학교김순곤중부대학교강정진한국인터넷방송통신학회강희조목원대학교박화진숙명여자대학교유현배나사렛대학교양재수한국데이터산업진흥원김윤호목원대학교하수철대전대학교● 학술위원회구 분성 명소 속구 분성 명소 속위원장박기홍한신대학교\\n위원\\n김의직한림대학교\\n부위원장\\n김지윤홍익대학교김일민한성대학교김진술전남대학교김정동선문대학교류승택한신대학교김종성국민대학교서상현중앙대학교김태은남서울대학교손태식아주대학교나지영남서울대학교안정호강남대학교박대헌한국전자통신연구원여상수목원대학교박상오중앙대학교유정민한국전통문화대학교박영충북도립대학교이한준명지대학교서영정공주대학교조재춘 제주대학교 서정욱한신대학교\\n위원권혁준한국폴리텍대학 대전캠퍼스안병천삼성SDS김근형동의대학교양영욱강릉원주대학교김무철중앙대학교오석희한신대학교김선명안양대학교유선용전남대학교김수균제주대학교유재학 한국전자통신연구원 김승원전남대학교유정현오산대학교김양훈신한대학교윤효석한신대학교김연수목원대학교'),\n",
       " Document(id='97c17ce2-4e0b-463d-843a-988afdde454d', metadata={'producer': 'PDF 2022 12.0.0.4204', 'creator': 'PDF 2022 12.0.0.4204', 'creationdate': '2025-06-30T11:28:00+09:00', 'moddate': '2025-06-30T11:28:11+09:00', 'source': '/tmp/tmpq453ynbq.pdf', 'total_pages': 1000, 'page': 717, 'page_label': '718'}, page_content='592\\nRule-basedNLP와 LLM를 결합한 쇼핑몰 하이브리드 챗봇 설계남장우(*),소현도(*),정한준(*),이용걸(**),박기홍(**)(*)한신대학교 컴퓨터공학부,{kws06009,thguseh1103,dnxkdxkd7979}@hs.ac.kr(**)한신대학교 AI·SW대학,{pattern,kihong}@hs.ac.kr1.연구 배경 최근 챗봇은 고객 상담, 정보 제공, 예약, 구매 지원 등 다양한 분야에 활용되고 있으나, 여전히 단일 기술 기반의 챗봇 구조는 한계를 드러내고 있다[1][2]. 특히 Rule-based NLP 기반 챗봇은 사전 정의된 질의응답에 대해서는 빠르고 안정적인 응답을 제공하지만, 복잡하거나 의도가 불분명한 질의에 대해 유연한 응답이 어렵고, 사용자 만족도가 낮아지는 문제가 있다[3][4].반면, LLM 기반 챗봇은 자연스러운 대화 생성과 유연한 의도 파악 능력을 갖추고 있지만, 할루시네이션 현상(hallucination), 높은 비용, 응답 통제의 어려움으로 인해 금융, 공공, 이커머스와 같은 신뢰성과 책임이 중요한 분야에서는 도입이 제한되고 있다. 실제로 잘못된 응답으로 인해 손해배상 책임이 발생한 사례도 존재한다.따라서 본 연구에서는 사용자 질의에 대해 정확한 의도 파악이 가능하고, 잘못된 정보를 생성하지 않도록 응답을 제어할 수 있는 챗봇 시스템의 필요성에 주목하였다. 이를 위해 NLP 기반의 응답 제어성과 LLM의 유연한 의도 이해 능력을 결합한 하이브리드 구조를 제안한다. 또한, 정확성, 유연성, 신뢰성을 동시에 충족할 수 있는 새로운 챗봇 구조를 모색하고자 한다.2.연구 내용본 연구에서는 NLP 기반 챗봇의 제어성과 LLM의 유연한 언어 이해 능력을 결합한 하이브리드 챗봇 구조를 제안한다. 사용자의 질의에 대해 먼저 NLP로 의도를 파악하고 응답을 생성하되, 의도 파악이 어려운 경우 LLM을 통해 보조 분석을 수행하여 정확도를 높인다. LLM은 의도 분석에만 사용되며, 최종 응답은 항상 NLP 룰에 의해 출력된다.'),\n",
       " Document(id='3c5c46dc-319d-4b61-9062-63f97ef65428', metadata={'producer': 'PDF 2022 12.0.0.4204', 'creator': 'PDF 2022 12.0.0.4204', 'creationdate': '2025-06-30T11:28:00+09:00', 'moddate': '2025-06-30T11:28:11+09:00', 'source': '/tmp/tmpq453ynbq.pdf', 'total_pages': 1000, 'page': 168, 'page_label': '169'}, page_content='청소년 대상 직업 추천을 위한 RAG기반 추천 시스템 연구노민주(*),백재영(*),성찬우(*),이경주(*),이은경(**),오석희(***)(*)한신대학교 컴퓨터공학부,{no0hminju,bjy922,scw1bue,rudwnlee}@hs.ac.kr(**)한신대학교 AIžSW대학,992cog22@hanmail.net(***)한신대학교 AIžSW대학,seokhee5@hs.ac.kr  1.연구 배경 및 필요성 연구 배경(통계청, 2020)에 따르면, 만 13세에서 18세 청소년 중 73.6%가 장래 희망 직업을 아직 결정하지 않았으며, (교육부, 2024)에서는 중학생의 40%, 고등학생의 30%가 희망 직업을 정하지 못했으며, 주요 원인은 \"내가 무엇을 좋아하는지 몰라서\"라는 자기 이해 부족으로 나타났다 이는 학생 개개인의 흥미와 성향을 반영한 개인화된 진로 탐색 서비스의 필요성을 시사하며, 본 연구는 AI 기반의 진로 추천 시스템을 통해 기존 진로 교육의 한계를 극복하고자 한다1.1서비스 개요본 연구는 중·고등학생을 대상으로, 장래 희망·흥미·성향· MBTI ·과목·취미·홀랜드 유형 등 다차원 입력 데이터를 기반으로, Generative Pre-trained Transformer(GPT) 기반 Large Language Model(LLM), RAG, 벡터 유사도 검색을 결합한 웹 기반 진로 추천 플랫폼 ‘너 커서 뭐 할래?’를 제안한다. 추천 결과는 PDF 출력, AI 이미지 시각화와 함께 제공되며, 추천 이력 관리, 임무, 친구 기능을 통해 지속적인 진로 탐색을 지원한다.2.기존 서비스와의 비교 요약  기존의 ‘고용24-잡케어’는 학력, 경력, 자격 등 이력 기반 데이터를 활용해 성인을 대상으로 한 취업 지원에 초점을 맞추지만 본 시스템은 중·고등학생의 취미, 흥미, 가치관, MBTI 등의 데이터를 기반으로 개인화된 직업과 학과 추천 서비스를 제공한다. 이는 경력 중심의 성인 대상 추천과 달리, 청소년의 성향과 관심사를 반영하여 미래 진로를 탐색하고 체험할 수')]"
      ]
     },
     "execution_count": 8,
     "metadata": {},
     "output_type": "execute_result"
    }
   ],
   "source": [
    "find_docs"
   ]
  },
  {
   "cell_type": "code",
   "execution_count": 4,
   "id": "03b0f9c6",
   "metadata": {},
   "outputs": [
    {
     "data": {
      "text/plain": [
       "5"
      ]
     },
     "execution_count": 4,
     "metadata": {},
     "output_type": "execute_result"
    }
   ],
   "source": [
    "len(find_docs)"
   ]
  },
  {
   "cell_type": "code",
   "execution_count": 5,
   "id": "5b0c7c71",
   "metadata": {},
   "outputs": [
    {
     "data": {
      "text/plain": [
       "Document(id='0e4dd644-7876-486b-b9c4-f6339913893e', metadata={'producer': 'PDF 2022 12.0.0.4204', 'creator': 'PDF 2022 12.0.0.4204', 'creationdate': '2025-06-30T11:28:00+09:00', 'moddate': '2025-06-30T11:28:11+09:00', 'source': '/tmp/tmpq453ynbq.pdf', 'total_pages': 1000, 'page': 164, 'page_label': '165'}, page_content='2025한국디지털콘텐츠학회 하계종합학술대회 및 대학생논문경진대회 발표 논문집\\n95\\n후크 시스템을 활용한 입체적 전투 RPG개발장준혁(*),송유민(*),이은경(**),오석희(***)(*)한신대학교 컴퓨터공학부,{jhjang888,songdaldal}@hs.ac.kr(**)한신대학교 AIžSW대학,992cog22@hanmail.net(***)한신대학교 AIžSW대학,seokhee5@hs.ac.kr1.연구 배경코로나19 이후 디지털 콘텐츠 소비 증가와 함께 다양한 플랫폼을 통한 게임 확산이 가속화되었다[1]. 엘든링, 마비노기 모바일, 로스트아크 등의 성공은 RPG 장르가 플랫폼에 관계없이 높은 몰입도와 선호도를 이끌어내는 강점을 보여준다, 아래 그림 1과 같이 Steam 플랫폼 내 RPG 장르 점유율 또한 2020년 6.7%에서 2025년 7.8%로 증가하며 지속적인 성장세를 나타내고 있다.\\n그림 1.Steam플랫폼 RPG장르 점유율(%)(2020~2025)[2]본 연구는 이러한 배경하에 RPG 장르의 핵심 요소인 보스 레이드 전투와 입체적 전투 시스템을 결합한 액션 RPG 게임 개발을 목표로 한다.2.연구 내용2.1구현 환경본 연구는 Unity 2022.3 LTS와 C#을 활용하여 개발하였으며 후크 시스템과 FSM 구조는 Unity의 컴포넌트를 기반 구조를 활용해 모듈화하여 구현하였다.')"
      ]
     },
     "execution_count": 5,
     "metadata": {},
     "output_type": "execute_result"
    }
   ],
   "source": [
    "find_docs[0]"
   ]
  },
  {
   "cell_type": "code",
   "execution_count": null,
   "id": "324bcef6",
   "metadata": {},
   "outputs": [],
   "source": []
  }
 ],
 "metadata": {
  "kernelspec": {
   "display_name": "llm",
   "language": "python",
   "name": "python3"
  },
  "language_info": {
   "codemirror_mode": {
    "name": "ipython",
    "version": 3
   },
   "file_extension": ".py",
   "mimetype": "text/x-python",
   "name": "python",
   "nbconvert_exporter": "python",
   "pygments_lexer": "ipython3",
   "version": "3.11.13"
  }
 },
 "nbformat": 4,
 "nbformat_minor": 5
}
